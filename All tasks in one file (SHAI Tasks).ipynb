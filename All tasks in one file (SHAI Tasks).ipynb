{
 "cells": [
  {
   "cell_type": "markdown",
   "metadata": {},
   "source": [
    "# Python Basics"
   ]
  },
  {
   "cell_type": "markdown",
   "metadata": {},
   "source": [
    "Task #1\n",
    "\n",
    "Use the print function to display your name, age, and favorite color on separate lines.\n",
    "\n",
    "\n",
    "---\n",
    "\n"
   ]
  },
  {
   "cell_type": "code",
   "execution_count": 2,
   "metadata": {},
   "outputs": [
    {
     "name": "stdout",
     "output_type": "stream",
     "text": [
      "mosa\n",
      " 19 \n",
      " blue\n"
     ]
    }
   ],
   "source": [
    "print(\"mosa\\n 19 \\n blue\")"
   ]
  },
  {
   "cell_type": "markdown",
   "metadata": {},
   "source": [
    "Task #2\n",
    "\n",
    " Write a Python program that declares the following variables and prints their types:\n",
    "\n",
    "*   An integer variable called number_of_apples with the value 10.\n",
    "*   A float variable called pi_value with the value 3.14.\n",
    "*   A boolean variable called is_sunny with the value True.\n",
    "*   A string variable called greeting with the value \"Good morning\".\n",
    "\n",
    "\n",
    "---\n",
    "\n"
   ]
  },
  {
   "cell_type": "code",
   "execution_count": 13,
   "metadata": {},
   "outputs": [
    {
     "name": "stdout",
     "output_type": "stream",
     "text": [
      "<class 'int'> \n",
      " <class 'float'> \n",
      " <class 'bool'> \n",
      " <class 'str'>\n"
     ]
    }
   ],
   "source": [
    "number_of_apples = 10\n",
    "pi_value = 3.14 \n",
    "is_sunny = True\n",
    "greeting = \"Good morning\"\n",
    "print (type(number_of_apples),\"\\n\",type(pi_value),\"\\n\",type(is_sunny),\"\\n\",type(greeting))"
   ]
  },
  {
   "cell_type": "markdown",
   "metadata": {},
   "source": [
    "Task #3\n",
    "\n",
    "Write a program that asks the user for their name and age, and then prints out a message addressed to them that tells them how many years they have until they turn 100.\n",
    "\n",
    "\n",
    "---\n",
    "\n"
   ]
  },
  {
   "cell_type": "code",
   "execution_count": 19,
   "metadata": {},
   "outputs": [
    {
     "name": "stdout",
     "output_type": "stream",
     "text": [
      "your name is mosa and you have 81 years left until you have 100 years old\n"
     ]
    }
   ],
   "source": [
    "name =str(input(\"what is your name\"))\n",
    "age = int(input(\"what is your age\"))\n",
    "print(\"your name is\",name,\"and you have\",100-age ,\"years left until you have 100 years old\")"
   ]
  },
  {
   "cell_type": "markdown",
   "metadata": {},
   "source": [
    "# f-Strings, Built-in function, list, if"
   ]
  },
  {
   "cell_type": "markdown",
   "metadata": {},
   "source": [
    "Task # 1\n",
    "\n",
    "Write a script that asks the user for their name and favorite food.\n",
    "Then, use an f-string to print a message saying \"{name} likes {favorite_food}\"\n",
    "\n",
    "\n",
    "---\n"
   ]
  },
  {
   "cell_type": "code",
   "execution_count": 21,
   "metadata": {},
   "outputs": [
    {
     "name": "stdout",
     "output_type": "stream",
     "text": [
      "mosa like shawrma\n"
     ]
    }
   ],
   "source": [
    "name=str(input(\"what is your name\"))\n",
    "favorite_food =str(input(\"what is your favotite food\"))\n",
    "print(f\"{name} like {favorite_food}\")"
   ]
  },
  {
   "cell_type": "markdown",
   "metadata": {},
   "source": [
    "Task #2\n",
    "\n",
    "Write a Python script that uses the help() function to find information about the **list** data type, then provide a brief explanation of the **append** method.\n",
    "\n",
    "\n",
    "---"
   ]
  },
  {
   "cell_type": "code",
   "execution_count": 25,
   "metadata": {},
   "outputs": [
    {
     "name": "stdout",
     "output_type": "stream",
     "text": [
      "Help on method_descriptor:\n",
      "\n",
      "append(self, object, /) unbound builtins.list method\n",
      "    Append object to the end of the list.\n",
      "\n",
      "None\n"
     ]
    }
   ],
   "source": [
    "print(help(list.append))"
   ]
  },
  {
   "cell_type": "markdown",
   "metadata": {},
   "source": [
    "Task #3\n",
    "\n",
    "Given a variable named price = '123$'\n",
    "\n",
    "Write a program to remove the dollar sign ($) and convert the value from string to integer.\n",
    "\n",
    "\n",
    "---\n",
    "\n"
   ]
  },
  {
   "cell_type": "code",
   "execution_count": 29,
   "metadata": {},
   "outputs": [
    {
     "name": "stdout",
     "output_type": "stream",
     "text": [
      "123\n"
     ]
    }
   ],
   "source": [
    "phone = \"123$\"\n",
    "phone_new =int(phone.replace(\"$\",''))\n",
    "print(phone_new)"
   ]
  },
  {
   "cell_type": "markdown",
   "metadata": {},
   "source": [
    "Task #4:\n",
    "\n",
    "Ask the user to enter a number and check if number less than  zero print number is negative, elif number is zero print number is exactly zero, else number greater than 0 print number is positive.\n"
   ]
  },
  {
   "cell_type": "code",
   "execution_count": 38,
   "metadata": {},
   "outputs": [
    {
     "name": "stdout",
     "output_type": "stream",
     "text": [
      "number is positive\n"
     ]
    }
   ],
   "source": [
    "ask = int(input(\"Hallo uesr tell me a random number\"))\n",
    "if ask <0 :\n",
    "    print(\"number is negative\")\n",
    "elif ask == 0:\n",
    "    print(\"number is  exzctly zero\")\n",
    "else:\n",
    "    print(\"number is positive\")\n",
    "\n"
   ]
  },
  {
   "cell_type": "markdown",
   "metadata": {},
   "source": [
    "Task #5:\n",
    "\n",
    "Write a Python program that takes a number and checks the following conditions:\n",
    "\n",
    "If the number is divisible by both 5 and 2, print \"number is divisible by 5 and 2.\"\n",
    "\n",
    "If the number is divisible by 2, print \"number is divisible by 2.\"\n",
    "\n",
    "If the number is divisible only by 5, print \"number is divisible by 5.\"\n",
    "\n",
    "If none of the above conditions are met, print \"the value is not a number.\""
   ]
  },
  {
   "cell_type": "code",
   "execution_count": 46,
   "metadata": {},
   "outputs": [
    {
     "name": "stdout",
     "output_type": "stream",
     "text": [
      "the value is not a number \n"
     ]
    }
   ],
   "source": [
    "ask = int(input('give me a number'))\n",
    "if ask%5==0 and  ask%2==0 :\n",
    "    print('number is divisible by 5 and 2')\n",
    "elif ask %2==0:\n",
    "    print (\"number is divisible by 2\")\n",
    "elif ask %5==0 :\n",
    "    print(\"number is divisible by 5\")\n",
    "else:\n",
    "    print(\"the value is not a number \")\n"
   ]
  },
  {
   "cell_type": "markdown",
   "metadata": {},
   "source": [
    "Task #6:\n",
    "\n",
    "Write a program that asks the user for their math, science, and English scores.\n",
    "Print “Excellent” if all scores are above 90, “Good” if all scores are above 75, and “Needs Improvement” otherwise."
   ]
  },
  {
   "cell_type": "code",
   "execution_count": 57,
   "metadata": {},
   "outputs": [
    {
     "name": "stdout",
     "output_type": "stream",
     "text": [
      "Good\n"
     ]
    }
   ],
   "source": [
    "ask=int(input(\"tell me your math,science and english scores\"))\n",
    "if ask >90:\n",
    "    print(\"Excellent\")\n",
    "elif ask >75 :\n",
    "    print(\"Good\")\n",
    "else :\n",
    "    print(\"Needs improvement\")"
   ]
  },
  {
   "cell_type": "markdown",
   "metadata": {},
   "source": [
    "# Loops and Data Structures"
   ]
  },
  {
   "cell_type": "markdown",
   "metadata": {},
   "source": [
    "Task #1:\n",
    "\n",
    "You have a list of numbers and you want to check if each number is in another list called special_numbers.\n",
    "\n",
    "If the number is in the list, print the number; otherwise, print \"Not in special numbers\".\n",
    "\n",
    "list1=[1,2,3,4]\n",
    "\n",
    "list2=[1,4,5,6]\n",
    "\n",
    "\n",
    "---\n",
    "\n"
   ]
  },
  {
   "cell_type": "markdown",
   "metadata": {},
   "source": [
    "Task #2:\n",
    "\n",
    "You have the following list_chars = ['A', 'B', 'C']\n",
    "\n",
    "I want you to write a Python program to get this result.\n",
    "\n",
    "\n",
    "---\n",
    "\n"
   ]
  },
  {
   "cell_type": "markdown",
   "metadata": {},
   "source": [
    "Task #3:\n",
    "\n",
    "\n",
    "Print all numbers from 0 to 10 using a while loop.\n",
    "\n",
    "---\n",
    "\n"
   ]
  },
  {
   "cell_type": "markdown",
   "metadata": {},
   "source": [
    "Task #4:\n",
    "\n",
    "Define a list of 6 items and print the number of items inside the list, second element,  second last element and use slicing to print out the second element until the third one.\n",
    "\n",
    "---\n",
    "\n"
   ]
  },
  {
   "cell_type": "markdown",
   "metadata": {},
   "source": [
    "Task #5:\n",
    "\n",
    "Define a list of numbers [1,2,3] and then use append method to add 4 and use insert to add 5 at position 1\n",
    "expected output [1,5,2,3,4]\n",
    "\n",
    "---\n",
    "\n"
   ]
  },
  {
   "cell_type": "markdown",
   "metadata": {},
   "source": [
    "Task #6:\n",
    "\n",
    "You have the following nested list: nested_list = [[1, 2, 3], [4, 5, 6], [7, 8, 9]]\n",
    "\n",
    "1. Access the number 5 from the nested list and assign it to a variable named number, print the variable number.\n",
    "\n",
    "2. Append number 10 to the last list inside nested_list, Print the updated nested_list.\n"
   ]
  },
  {
   "cell_type": "markdown",
   "metadata": {},
   "source": [
    "# Data Structures & Functions"
   ]
  },
  {
   "cell_type": "markdown",
   "metadata": {},
   "source": [
    "Task #1:\n",
    "\n",
    "Simple Task: create a tuple and print the last element\n",
    "\n",
    "---\n",
    "\n"
   ]
  },
  {
   "cell_type": "markdown",
   "metadata": {},
   "source": [
    "Task #2:\n",
    "\n",
    "Create and Add Elements to a Set\n",
    "- Create an empty set named my_set\n",
    "- Add the elements 1, 2, and 3 to my_set\n",
    "- Print the updated set"
   ]
  },
  {
   "cell_type": "markdown",
   "metadata": {},
   "source": [
    "Task #3:\n",
    "Check element in a Set\n",
    "- Create set named my_set with the elements 1, 2, 3, and 4\n",
    "- Check if the element 2 is in my_set and print the result\n",
    "- Check if the element 5 is in my_set and print the result\n"
   ]
  },
  {
   "cell_type": "markdown",
   "metadata": {},
   "source": [
    "Task #4:\n",
    "\n",
    "- Create a dictionary named student store his name, course , age with thier associated values\n",
    "- Use update function to edit the age, add another item (phone_number)\n",
    "- Delete the course key"
   ]
  },
  {
   "cell_type": "markdown",
   "metadata": {},
   "source": [
    "Task #5:\n",
    "\n",
    "Write a function that prints your name (without any parameters)\n",
    "\n",
    "---\n",
    "Task #6:\n",
    "\n",
    "\n",
    "Write a function with two parameters (first_name , last_name) and then print (my full name is {first_name} , {last_name})"
   ]
  },
  {
   "cell_type": "markdown",
   "metadata": {},
   "source": [
    "Task #7:\n",
    "\n",
    "Write a function that takes two numbers a and b and assign b to a default value 5 and then print(a + b)\n"
   ]
  },
  {
   "cell_type": "markdown",
   "metadata": {},
   "source": [
    "Task #8:\n",
    "\n",
    "Create a function takes a list of numbers and prints whether each number is even or odd.\n",
    "\n",
    "---\n",
    "\n"
   ]
  },
  {
   "cell_type": "markdown",
   "metadata": {},
   "source": [
    "# OOP_Classes"
   ]
  },
  {
   "cell_type": "markdown",
   "metadata": {},
   "source": [
    "Task #1:\n",
    "\n",
    "Create a class named Truck, define a constructor of two attributes(model, color)\n",
    "\n",
    "Create an instance or object of Truck class\n",
    "\n",
    "Print it's model and color"
   ]
  },
  {
   "cell_type": "markdown",
   "metadata": {},
   "source": [
    "Task #2:\n",
    "\n",
    "Create a class named Truck, define a constructor of two attributes(name, color)\n",
    "\n",
    "Create an instance or object of Truck class\n",
    "\n",
    "Define a method named start_engine that prints car {name} is starting"
   ]
  },
  {
   "cell_type": "markdown",
   "metadata": {},
   "source": [
    "Task #3:\n",
    "\n",
    "Create a Person class with name attribute and a method called introduce that prints \"hi my name is {name}\",\n",
    "\n",
    "then create a Student class inheriting from Person with an additional age attribute\n",
    "\n",
    "and a more_info method that prints \"student {name} is {age} year old\", and test both classes (create objects of both classes)\n"
   ]
  },
  {
   "cell_type": "markdown",
   "metadata": {},
   "source": [
    "# Packages & Handling_errors\n"
   ]
  },
  {
   "cell_type": "markdown",
   "metadata": {},
   "source": [
    "Task #1:\n",
    "\n",
    "Create a dictionary with some key-value pairs, ask the user for a key and print the corresponding value.\n",
    "\n",
    "Use try and except to handle cases where the key is not in the dictionary.\n"
   ]
  }
 ],
 "metadata": {
  "kernelspec": {
   "display_name": "Python 3",
   "language": "python",
   "name": "python3"
  },
  "language_info": {
   "codemirror_mode": {
    "name": "ipython",
    "version": 3
   },
   "file_extension": ".py",
   "mimetype": "text/x-python",
   "name": "python",
   "nbconvert_exporter": "python",
   "pygments_lexer": "ipython3",
   "version": "3.12.4"
  }
 },
 "nbformat": 4,
 "nbformat_minor": 2
}
